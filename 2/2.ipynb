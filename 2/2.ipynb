{
 "cells": [
  {
   "cell_type": "markdown",
   "metadata": {},
   "source": [
    "# 计算机网络体系结构第二次作业\n",
    "\n",
    "作业要求：\n",
    "\n",
    "> 1. 推导杜邦分析公式：ROE = 净利润率 x 总资产周转率 x 权益乘数，并简要分析宏观经济放缓对于 ROE 的影响。\n",
    "> 2. 因为假的东西难以长久，看财报最好多看几年。1）利用 akshare 库获取上市公司的财务报表数据（代码参考附录 1），计算每只股票在 2021 年至 2023 年期间的 ROE（由于 akshare 没有给出归母净利润，这里假设净利润 = 归母净利润）。2）希望对同一板块的公司进行 ROE 的横向比较。\n",
    "> 3. 在 2 的基础上，针对于 ROE 最高的公司，根据其某一年，如 2023 年的年度报表，进行杜邦分析。（markdown 画图可参考附录 2）\n",
    "\n",
    "## 理论推导\n",
    "\n",
    "### 杜邦分析公式\n",
    "\n",
    "杜邦分析公式是一个用于分解公司 ROE 的公式，它将 ROE 分解为三个部分：净利润率、总资产周转率和权益乘数。具体推导如下：\n",
    "\n",
    "$$\n",
    "\\begin{alignat*}{3}\n",
    "    \\text{净利润率}    & \\coloneqq \\frac{\\text{归母净利润}}{\\text{营业收入}} \\tag{净利润率} \\\\\n",
    "    \\text{总资产周转率} & \\coloneqq \\frac{\\text{营业收入}}{\\text{平均总资产}} \\tag{总资产周转率} \\\\\n",
    "    \\text{权益乘数}    & \\coloneqq \\frac{1}{1 - 资产负债率} \\tag{权益乘数} \\\\\n",
    "                      & = \\frac{1}{1 - \\frac{平均总负债}{平均总资产}} \\\\\n",
    "                      & = \\frac{平均总资产}{平均总资产 - 平均总负债} \\\\\n",
    "                      & = \\frac{\\text{平均总资产}}{\\text{净资产}} \\\\\n",
    "    ROE               & \\coloneqq \\frac{\\text{归母净利润}}{\\text{净资产}} \\tag{净资产收益率} \\\\\n",
    "                      & = \\frac{\\text{归母净利润}}{\\text{营业收入}} \\times \\frac{\\text{营业收入}}{\\text{净资产}} \\\\\n",
    "                      & = \\frac{\\text{归母净利润}}{\\text{营业收入}} \\times \\frac{\\text{营业收入}}{\\text{平均总资产}} \\times \\frac{\\text{平均总资产}}{\\text{净资产}} \\\\\n",
    "                      & = \\text{净利润率} \\times \\text{总资产周转率} \\times \\text{权益乘数}\n",
    "\\end{alignat*}\n",
    "$$\n",
    "\n",
    "## 实验设置\n"
   ]
  },
  {
   "cell_type": "markdown",
   "metadata": {},
   "source": [
    "## 实验原理、实现、结果与分析\n"
   ]
  },
  {
   "cell_type": "markdown",
   "metadata": {},
   "source": [
    "### 数据准备\n"
   ]
  },
  {
   "cell_type": "code",
   "execution_count": 251,
   "metadata": {},
   "outputs": [],
   "source": [
    "from typing import Callable\n",
    "from pylab import mpl\n",
    "from matplotlib import pyplot as plt\n",
    "import akshare as ak\n",
    "import os\n",
    "import os.path as path\n",
    "import pandas as pd\n",
    "import pathlib as pl\n",
    "\n",
    "\n",
    "# 设置显示中文字体\n",
    "mpl.rcParams[\"font.sans-serif\"] = [\"Songti SC\"]\n",
    "mpl.rcParams[\"axes.unicode_minus\"] = False\n",
    "\n",
    "\n",
    "class DataLoader:\n",
    "    \"\"\"\n",
    "    Load data from akshare and save it to local file.\n",
    "    \"\"\"\n",
    "    stock_zcfz_em_df: pd.DataFrame\n",
    "    stock_lrb_em_df: pd.DataFrame\n",
    "    stock_xjll_em_df: pd.DataFrame\n",
    "\n",
    "    def __init__(self, date: str):\n",
    "        self.load_data(date)\n",
    "\n",
    "    @staticmethod\n",
    "    def load_df(p: pl.Path, getter: Callable[[], pd.DataFrame]):\n",
    "        '''\n",
    "        Load DataFrame from local file, if the file does not exist, call getter to get the data.\n",
    "        '''\n",
    "        if not path.exists(p):\n",
    "            df = getter()\n",
    "            df.set_index(\"股票代码\", inplace=True)\n",
    "            df.to_pickle(p)\n",
    "        # 如果我们不使用pd.read_json，而是直接使用pd.read_csv，会导致数据类型不一致\n",
    "        # 例如，有的列是int，有的列是float\n",
    "        return pd.read_pickle(p)\n",
    "\n",
    "    def load_data(self, date: str):\n",
    "        DIR = pl.Path(\"data\")\n",
    "        os.makedirs(DIR, exist_ok=True)\n",
    "        self.stock_zcfz_em_df = self.load_df(\n",
    "            DIR / f\"stock_zcfz_em-{date}.pkl\",\n",
    "            lambda: ak.stock_zcfz_em(date=date)\n",
    "        )\n",
    "        self.stock_lrb_em_df = self.load_df(\n",
    "            DIR / f\"stock_lrb_em-{date}.pkl\",\n",
    "            lambda: ak.stock_lrb_em(date=date)\n",
    "        )\n",
    "        self.stock_xjll_em_df = self.load_df(\n",
    "            DIR / f\"stock_xjll_em-{date}.pkl\",\n",
    "            lambda: ak.stock_xjll_em(date=date)\n",
    "        )"
   ]
  },
  {
   "cell_type": "markdown",
   "metadata": {},
   "source": [
    "- 读取财务数据，并查看可用的信息。\n"
   ]
  },
  {
   "cell_type": "code",
   "execution_count": 252,
   "metadata": {},
   "outputs": [
    {
     "name": "stdout",
     "output_type": "stream",
     "text": [
      "Index(['序号', '股票简称', '资产-货币资金', '资产-应收账款', '资产-存货', '资产-总资产', '资产-总资产同比',\n",
      "       '负债-应付账款', '负债-预收账款', '负债-总负债', '负债-总负债同比', '资产负债率', '股东权益合计', '公告日期'],\n",
      "      dtype='object')\n",
      "Index(['序号', '股票简称', '净利润', '净利润同比', '营业总收入', '营业总收入同比', '营业总支出-营业支出',\n",
      "       '营业总支出-销售费用', '营业总支出-管理费用', '营业总支出-财务费用', '营业总支出-营业总支出', '营业利润', '利润总额',\n",
      "       '公告日期'],\n",
      "      dtype='object')\n",
      "Index(['序号', '股票简称', '净现金流-净现金流', '净现金流-同比增长', '经营性现金流-现金流量净额',\n",
      "       '经营性现金流-净现金流占比', '投资性现金流-现金流量净额', '投资性现金流-净现金流占比', '融资性现金流-现金流量净额',\n",
      "       '融资性现金流-净现金流占比', '公告日期'],\n",
      "      dtype='object')\n"
     ]
    }
   ],
   "source": [
    "DATES = [\"20201231\", \"20211231\", \"20221231\", \"20231231\"]\n",
    "data = {date: DataLoader(date) for date in DATES}\n",
    "\n",
    "start = data[\"20201231\"]\n",
    "following = [data[d] for d in DATES[1:]]\n",
    "end = data[\"20231231\"]\n",
    "print(start.stock_zcfz_em_df.columns)\n",
    "print(start.stock_lrb_em_df.columns)\n",
    "print(start.stock_xjll_em_df.columns)"
   ]
  },
  {
   "cell_type": "markdown",
   "metadata": {},
   "source": [
    "- 查看资产负债率概况。\n"
   ]
  },
  {
   "cell_type": "code",
   "execution_count": 253,
   "metadata": {},
   "outputs": [
    {
     "name": "stdout",
     "output_type": "stream",
     "text": [
      "           20201231     20211231     20221231     20231231\n",
      "count   5170.000000  5166.000000  5131.000000  2425.000000\n",
      "mean      45.782102    42.627869    42.255226    40.941066\n",
      "std      248.432711    21.657775    22.613517    21.266721\n",
      "min        1.306203     1.495593     1.557874     2.107879\n",
      "25%       25.746219    25.782649    24.701444    23.739977\n",
      "50%       40.902024    41.091894    40.611636    39.638593\n",
      "75%       56.628315    56.864707    57.016438    55.932779\n",
      "max    17834.547318   159.237049   244.153123   122.284584\n"
     ]
    }
   ],
   "source": [
    "print(pd.DataFrame.from_dict({\n",
    "    date: data[date].stock_zcfz_em_df.资产负债率.describe() for date in DATES\n",
    "}))"
   ]
  },
  {
   "cell_type": "markdown",
   "metadata": {},
   "source": [
    "- 查看年度净利润概况。\n"
   ]
  },
  {
   "cell_type": "code",
   "execution_count": 254,
   "metadata": {},
   "outputs": [
    {
     "name": "stdout",
     "output_type": "stream",
     "text": [
      "           20201231      20211231      20221231      20231231\n",
      "count  5.170000e+03  5.166000e+03  5.158000e+03  2.425000e+03\n",
      "mean   8.395560e+08  1.000283e+09  1.026978e+09  1.813387e+09\n",
      "std    8.313098e+09  9.345872e+09  1.024536e+10  1.459529e+10\n",
      "min   -6.400331e+10 -4.326461e+10 -3.861950e+10 -8.168000e+09\n",
      "25%    4.776486e+07  4.684590e+07  2.198180e+07  4.762086e+07\n",
      "50%    1.116375e+08  1.242840e+08  1.116990e+08  1.595813e+08\n",
      "75%    3.285773e+08  3.887146e+08  3.682492e+08  5.261305e+08\n",
      "max    3.159060e+11  3.483380e+11  3.611320e+11  3.639930e+11\n"
     ]
    }
   ],
   "source": [
    "print(pd.DataFrame.from_dict({\n",
    "    date: data[date].stock_lrb_em_df['净利润'].describe() for date in DATES\n",
    "}))"
   ]
  },
  {
   "cell_type": "markdown",
   "metadata": {},
   "source": [
    "- 收集在 2021 年到 2023 年都处于上市状态的股票。\n"
   ]
  },
  {
   "cell_type": "code",
   "execution_count": 255,
   "metadata": {},
   "outputs": [
    {
     "name": "stdout",
     "output_type": "stream",
     "text": [
      "2425\n"
     ]
    }
   ],
   "source": [
    "codes = set(start.stock_zcfz_em_df.index.array)\n",
    "for date in DATES[1:]:\n",
    "    codes = codes.intersection(set(data[date].stock_zcfz_em_df.index.array))\n",
    "list_codes = [*codes]\n",
    "list_codes.sort()\n",
    "print(len(list_codes))"
   ]
  },
  {
   "cell_type": "markdown",
   "metadata": {},
   "source": [
    "### 计算各项指标\n",
    "\n",
    "- 计算三年内的净利润之和与营业总收入。\n"
   ]
  },
  {
   "cell_type": "code",
   "execution_count": 256,
   "metadata": {},
   "outputs": [
    {
     "name": "stdout",
     "output_type": "stream",
     "text": [
      "count    2.425000e+03\n",
      "mean     6.795349e+09\n",
      "std      5.388636e+10\n",
      "min     -7.071762e+10\n",
      "25%      2.241070e+08\n",
      "50%      6.292772e+08\n",
      "75%      2.035861e+09\n",
      "max      1.389369e+12\n",
      "dtype: float64\n",
      "count    2.425000e+03\n",
      "mean     7.774528e+10\n",
      "std      4.549609e+11\n",
      "min      1.650822e+06\n",
      "25%      3.485206e+09\n",
      "50%      8.807435e+09\n",
      "75%      2.813832e+10\n",
      "max      1.137599e+13\n",
      "dtype: float64\n"
     ]
    }
   ],
   "source": [
    "profits = pd.DataFrame.from_dict({\n",
    "    date: data[date].stock_lrb_em_df.loc[list_codes, \"净利润\"]\n",
    "    for date in DATES\n",
    "}).sum(axis=1)\n",
    "gains = pd.DataFrame.from_dict({\n",
    "    date: data[date].stock_lrb_em_df.loc[list_codes, \"营业总收入\"]\n",
    "    for date in DATES\n",
    "}).sum(axis=1)\n",
    "print(profits.describe())\n",
    "print(gains.describe())"
   ]
  },
  {
   "cell_type": "markdown",
   "metadata": {},
   "source": [
    "- 计算如下指标：净利润率、总资产周转率、权益乘数和 ROE。"
   ]
  },
  {
   "cell_type": "code",
   "execution_count": 257,
   "metadata": {},
   "outputs": [],
   "source": [
    "result = pd.DataFrame({\n",
    "    '股票代码': list_codes,\n",
    "    '股票简称': start.stock_zcfz_em_df.loc[list_codes, '股票简称'],\n",
    "    '归母净利润':  profits,\n",
    "    '营业收入': gains,\n",
    "    '平均总资产': (start.stock_zcfz_em_df.loc[list_codes, '资产-总资产'] +\n",
    "              end.stock_zcfz_em_df.loc[list_codes, '资产-总资产']) / 2,\n",
    "    '平均总负债': (start.stock_zcfz_em_df.loc[list_codes, '负债-总负债'] +\n",
    "              end.stock_zcfz_em_df.loc[list_codes, '负债-总负债']) / 2,\n",
    "})\n",
    "result.set_index('股票代码', inplace=True)\n",
    "result['营业净利润率'] = result['归母净利润'] / result['营业收入']\n",
    "result['总资产周转率'] = result['营业收入'] / result['平均总资产']\n",
    "result['资产负债率'] = result['平均总负债'] / result['平均总资产']\n",
    "result['净资产'] = result['平均总资产'] - result['平均总负债']\n",
    "result['权益乘数'] = result['平均总资产'] / result['净资产']\n",
    "result['净资产收益率'] = result['归母净利润'] / result['净资产']"
   ]
  },
  {
   "cell_type": "markdown",
   "metadata": {},
   "source": [
    "- 去除净资产为负的股票。"
   ]
  },
  {
   "cell_type": "code",
   "execution_count": 258,
   "metadata": {},
   "outputs": [
    {
     "name": "stdout",
     "output_type": "stream",
     "text": [
      "        股票简称         归母净利润          营业收入         平均总资产         平均总负债  \\\n",
      "股票代码                                                                   \n",
      "000523  红棉股份 -3.234084e+09  1.116685e+10  3.307607e+09  4.154008e+09   \n",
      "002356  赫美集团  2.869680e+08  1.126689e+09  9.658484e+08  2.167062e+09   \n",
      "002766  索菱股份 -1.934133e+09  3.876476e+09  1.713844e+09  1.742275e+09   \n",
      "600518  ST康美 -2.575257e+10  1.861870e+10  2.380325e+10  2.546784e+10   \n",
      "600734  ST实达  3.840681e+07  2.671087e+09  1.477955e+09  1.863208e+09   \n",
      "688520  神州细胞 -2.494369e+09  3.045247e+09  2.191024e+09  2.199749e+09   \n",
      "\n",
      "          营业净利润率    总资产周转率     资产负债率           净资产        权益乘数      净资产收益率  \n",
      "股票代码                                                                        \n",
      "000523 -0.289615  3.376113  1.255895 -8.464008e+08   -3.907850    3.820984  \n",
      "002356  0.254700  1.166527  2.243687 -1.201213e+09   -0.804061   -0.238899  \n",
      "002766 -0.498941  2.261861  1.016589 -2.843144e+07  -60.279875   68.027971  \n",
      "600518 -1.383156  0.782191  1.069931 -1.664585e+09  -14.299811   15.470862  \n",
      "600734  0.014379  1.807286  1.260666 -3.852530e+08   -3.836323   -0.099692  \n",
      "688520 -0.819102  1.389874  1.003982 -8.725092e+06 -251.117545  285.884592  \n"
     ]
    }
   ],
   "source": [
    "print(result[result.loc[:, '净资产'] <= 0])\n",
    "result = result[result.loc[:, '净资产'] > 0]"
   ]
  },
  {
   "cell_type": "markdown",
   "metadata": {},
   "source": [
    "- 去除归母净利润为负的股票。"
   ]
  },
  {
   "cell_type": "code",
   "execution_count": 259,
   "metadata": {},
   "outputs": [
    {
     "name": "stdout",
     "output_type": "stream",
     "text": [
      "        股票简称         归母净利润          营业收入         平均总资产         平均总负债  \\\n",
      "股票代码                                                                   \n",
      "000008  神州高铁 -3.963355e+09  8.416924e+09  1.174188e+10  6.580397e+09   \n",
      "000016  深康佳A -2.251271e+09  1.469155e+11  4.285054e+10  3.453678e+10   \n",
      "000037  深南电A -5.314289e+08  3.026437e+09  2.535098e+09  7.958202e+08   \n",
      "000050  深天马A -5.457656e+08  1.267171e+11  7.776706e+10  4.648602e+10   \n",
      "000069  华侨城A -9.119733e+08  3.169975e+11  4.157349e+11  3.176404e+11   \n",
      "...      ...           ...           ...           ...           ...   \n",
      "688469  芯联集成 -5.648468e+09  1.269391e+10  1.998801e+10  9.730185e+09   \n",
      "688488  艾迪药业 -1.903767e+08  1.200349e+09  1.596696e+09  3.539986e+08   \n",
      "688521  芯原股份 -2.349265e+08  8.662431e+09  3.800806e+09  1.137435e+09   \n",
      "688538  和辉光电 -6.827457e+09  1.375193e+10  2.660565e+10  1.515458e+10   \n",
      "688660  电气风电 -6.856357e+08  6.637272e+10  2.881188e+10  2.371239e+10   \n",
      "\n",
      "          营业净利润率    总资产周转率     资产负债率           净资产      权益乘数    净资产收益率  \n",
      "股票代码                                                                    \n",
      "000008 -0.470879  0.716829  0.560421  5.161486e+09  2.274904 -0.767871  \n",
      "000016 -0.015324  3.428557  0.805982  8.313759e+09  5.154172 -0.270789  \n",
      "000037 -0.175596  1.193815  0.313921  1.739278e+09  1.457558 -0.305546  \n",
      "000050 -0.004307  1.629444  0.597760  3.128104e+10  2.486077 -0.017447  \n",
      "000069 -0.002877  0.762499  0.764046  9.809449e+10  4.238107 -0.009297  \n",
      "...          ...       ...       ...           ...       ...       ...  \n",
      "688469 -0.444975  0.635076  0.486801  1.025782e+10  1.948562 -0.550650  \n",
      "688488 -0.158601  0.751770  0.221707  1.242698e+09  1.284863 -0.153196  \n",
      "688521 -0.027120  2.279104  0.299262  2.663371e+09  1.427066 -0.088206  \n",
      "688538 -0.496473  0.516880  0.569600  1.145107e+10  2.323421 -0.596229  \n",
      "688660 -0.010330  2.303658  0.823007  5.099488e+09  5.649956 -0.134452  \n",
      "\n",
      "[318 rows x 11 columns]\n"
     ]
    }
   ],
   "source": [
    "print(result[result.loc[:, '归母净利润'] <= 0])\n",
    "result = result[result.loc[:, '归母净利润'] > 0]"
   ]
  },
  {
   "cell_type": "markdown",
   "metadata": {},
   "source": [
    "- 查看计算结果的概况。"
   ]
  },
  {
   "cell_type": "code",
   "execution_count": 260,
   "metadata": {},
   "outputs": [
    {
     "data": {
      "text/html": [
       "<div>\n",
       "<style scoped>\n",
       "    .dataframe tbody tr th:only-of-type {\n",
       "        vertical-align: middle;\n",
       "    }\n",
       "\n",
       "    .dataframe tbody tr th {\n",
       "        vertical-align: top;\n",
       "    }\n",
       "\n",
       "    .dataframe thead th {\n",
       "        text-align: right;\n",
       "    }\n",
       "</style>\n",
       "<table border=\"1\" class=\"dataframe\">\n",
       "  <thead>\n",
       "    <tr style=\"text-align: right;\">\n",
       "      <th></th>\n",
       "      <th>归母净利润</th>\n",
       "      <th>营业收入</th>\n",
       "      <th>平均总资产</th>\n",
       "      <th>平均总负债</th>\n",
       "      <th>营业净利润率</th>\n",
       "      <th>总资产周转率</th>\n",
       "      <th>资产负债率</th>\n",
       "      <th>净资产</th>\n",
       "      <th>权益乘数</th>\n",
       "      <th>净资产收益率</th>\n",
       "    </tr>\n",
       "  </thead>\n",
       "  <tbody>\n",
       "    <tr>\n",
       "      <th>count</th>\n",
       "      <td>2.101000e+03</td>\n",
       "      <td>2.101000e+03</td>\n",
       "      <td>2.101000e+03</td>\n",
       "      <td>2.101000e+03</td>\n",
       "      <td>2101.000000</td>\n",
       "      <td>2101.000000</td>\n",
       "      <td>2101.000000</td>\n",
       "      <td>2.101000e+03</td>\n",
       "      <td>2101.000000</td>\n",
       "      <td>2101.000000</td>\n",
       "    </tr>\n",
       "    <tr>\n",
       "      <th>mean</th>\n",
       "      <td>8.133626e+09</td>\n",
       "      <td>8.537976e+10</td>\n",
       "      <td>1.449550e+11</td>\n",
       "      <td>1.230598e+11</td>\n",
       "      <td>0.125672</td>\n",
       "      <td>2.428654</td>\n",
       "      <td>0.396476</td>\n",
       "      <td>2.189523e+10</td>\n",
       "      <td>2.026713</td>\n",
       "      <td>0.366162</td>\n",
       "    </tr>\n",
       "    <tr>\n",
       "      <th>std</th>\n",
       "      <td>5.770163e+10</td>\n",
       "      <td>4.872186e+11</td>\n",
       "      <td>1.607937e+12</td>\n",
       "      <td>1.472757e+12</td>\n",
       "      <td>0.135044</td>\n",
       "      <td>1.736429</td>\n",
       "      <td>0.198244</td>\n",
       "      <td>1.448030e+11</td>\n",
       "      <td>1.539674</td>\n",
       "      <td>0.262962</td>\n",
       "    </tr>\n",
       "    <tr>\n",
       "      <th>min</th>\n",
       "      <td>2.014258e+06</td>\n",
       "      <td>9.143458e+07</td>\n",
       "      <td>2.345061e+08</td>\n",
       "      <td>2.224570e+07</td>\n",
       "      <td>0.000934</td>\n",
       "      <td>0.079282</td>\n",
       "      <td>0.027310</td>\n",
       "      <td>1.744578e+07</td>\n",
       "      <td>1.028077</td>\n",
       "      <td>0.000850</td>\n",
       "    </tr>\n",
       "    <tr>\n",
       "      <th>25%</th>\n",
       "      <td>3.608429e+08</td>\n",
       "      <td>3.779051e+09</td>\n",
       "      <td>1.960773e+09</td>\n",
       "      <td>5.291125e+08</td>\n",
       "      <td>0.048635</td>\n",
       "      <td>1.459573</td>\n",
       "      <td>0.235293</td>\n",
       "      <td>1.273889e+09</td>\n",
       "      <td>1.307690</td>\n",
       "      <td>0.203578</td>\n",
       "    </tr>\n",
       "    <tr>\n",
       "      <th>50%</th>\n",
       "      <td>8.221003e+08</td>\n",
       "      <td>9.572210e+09</td>\n",
       "      <td>4.488250e+09</td>\n",
       "      <td>1.557358e+09</td>\n",
       "      <td>0.099844</td>\n",
       "      <td>2.102810</td>\n",
       "      <td>0.377423</td>\n",
       "      <td>2.677206e+09</td>\n",
       "      <td>1.606227</td>\n",
       "      <td>0.333880</td>\n",
       "    </tr>\n",
       "    <tr>\n",
       "      <th>75%</th>\n",
       "      <td>2.435178e+09</td>\n",
       "      <td>3.045518e+10</td>\n",
       "      <td>1.333414e+10</td>\n",
       "      <td>6.202251e+09</td>\n",
       "      <td>0.165864</td>\n",
       "      <td>2.954416</td>\n",
       "      <td>0.534931</td>\n",
       "      <td>7.225705e+09</td>\n",
       "      <td>2.150217</td>\n",
       "      <td>0.477703</td>\n",
       "    </tr>\n",
       "    <tr>\n",
       "      <th>max</th>\n",
       "      <td>1.389369e+12</td>\n",
       "      <td>1.137599e+13</td>\n",
       "      <td>3.902107e+13</td>\n",
       "      <td>3.567802e+13</td>\n",
       "      <td>2.786849</td>\n",
       "      <td>19.711469</td>\n",
       "      <td>0.939825</td>\n",
       "      <td>3.343052e+12</td>\n",
       "      <td>16.618060</td>\n",
       "      <td>6.874037</td>\n",
       "    </tr>\n",
       "  </tbody>\n",
       "</table>\n",
       "</div>"
      ],
      "text/plain": [
       "              归母净利润          营业收入         平均总资产         平均总负债       营业净利润率  \\\n",
       "count  2.101000e+03  2.101000e+03  2.101000e+03  2.101000e+03  2101.000000   \n",
       "mean   8.133626e+09  8.537976e+10  1.449550e+11  1.230598e+11     0.125672   \n",
       "std    5.770163e+10  4.872186e+11  1.607937e+12  1.472757e+12     0.135044   \n",
       "min    2.014258e+06  9.143458e+07  2.345061e+08  2.224570e+07     0.000934   \n",
       "25%    3.608429e+08  3.779051e+09  1.960773e+09  5.291125e+08     0.048635   \n",
       "50%    8.221003e+08  9.572210e+09  4.488250e+09  1.557358e+09     0.099844   \n",
       "75%    2.435178e+09  3.045518e+10  1.333414e+10  6.202251e+09     0.165864   \n",
       "max    1.389369e+12  1.137599e+13  3.902107e+13  3.567802e+13     2.786849   \n",
       "\n",
       "            总资产周转率        资产负债率           净资产         权益乘数       净资产收益率  \n",
       "count  2101.000000  2101.000000  2.101000e+03  2101.000000  2101.000000  \n",
       "mean      2.428654     0.396476  2.189523e+10     2.026713     0.366162  \n",
       "std       1.736429     0.198244  1.448030e+11     1.539674     0.262962  \n",
       "min       0.079282     0.027310  1.744578e+07     1.028077     0.000850  \n",
       "25%       1.459573     0.235293  1.273889e+09     1.307690     0.203578  \n",
       "50%       2.102810     0.377423  2.677206e+09     1.606227     0.333880  \n",
       "75%       2.954416     0.534931  7.225705e+09     2.150217     0.477703  \n",
       "max      19.711469     0.939825  3.343052e+12    16.618060     6.874037  "
      ]
     },
     "execution_count": 260,
     "metadata": {},
     "output_type": "execute_result"
    }
   ],
   "source": [
    "result.describe()"
   ]
  },
  {
   "cell_type": "markdown",
   "metadata": {},
   "source": [
    "- 查看营业净利润率的概况。"
   ]
  },
  {
   "cell_type": "code",
   "execution_count": 261,
   "metadata": {},
   "outputs": [
    {
     "data": {
      "text/plain": [
       "<Axes: xlabel='股票代码'>"
      ]
     },
     "execution_count": 261,
     "metadata": {},
     "output_type": "execute_result"
    },
    {
     "data": {
      "image/png": "[encoded data removed]",
      "text/plain": [
       "<Figure size 640x480 with 1 Axes>"
      ]
     },
     "metadata": {},
     "output_type": "display_data"
    }
   ],
   "source": [
    "result.loc[:, '营业净利润率'].plot()"
   ]
  },
  {
   "cell_type": "markdown",
   "metadata": {},
   "source": [
    "- 查看总资产周转率的概况。"
   ]
  },
  {
   "cell_type": "code",
   "execution_count": 262,
   "metadata": {},
   "outputs": [
    {
     "data": {
      "text/plain": [
       "<Axes: xlabel='股票代码'>"
      ]
     },
     "execution_count": 262,
     "metadata": {},
     "output_type": "execute_result"
    },
    {
     "data": {
      "image/png": "[encoded data removed]",
      "text/plain": [
       "<Figure size 640x480 with 1 Axes>"
      ]
     },
     "metadata": {},
     "output_type": "display_data"
    }
   ],
   "source": [
    "result.loc[:, '总资产周转率'].plot()"
   ]
  },
  {
   "cell_type": "markdown",
   "metadata": {},
   "source": [
    "- 查看权益乘数的概况。"
   ]
  },
  {
   "cell_type": "code",
   "execution_count": 263,
   "metadata": {},
   "outputs": [
    {
     "data": {
      "text/plain": [
       "<Axes: xlabel='股票代码'>"
      ]
     },
     "execution_count": 263,
     "metadata": {},
     "output_type": "execute_result"
    },
    {
     "data": {
      "image/png": "[encoded data removed]",
      "text/plain": [
       "<Figure size 640x480 with 1 Axes>"
      ]
     },
     "metadata": {},
     "output_type": "display_data"
    }
   ],
   "source": [
    "result.loc[:, '权益乘数'].plot()"
   ]
  },
  {
   "cell_type": "markdown",
   "metadata": {},
   "source": [
    "- 查看 ROE 的概况。"
   ]
  },
  {
   "cell_type": "code",
   "execution_count": 264,
   "metadata": {},
   "outputs": [
    {
     "data": {
      "text/plain": [
       "<Axes: xlabel='股票代码'>"
      ]
     },
     "execution_count": 264,
     "metadata": {},
     "output_type": "execute_result"
    },
    {
     "data": {
      "image/png": "[encoded data removed]",
      "text/plain": [
       "<Figure size 640x480 with 1 Axes>"
      ]
     },
     "metadata": {},
     "output_type": "display_data"
    }
   ],
   "source": [
    "result.loc[:, '净资产收益率'].plot()"
   ]
  },
  {
   "cell_type": "markdown",
   "metadata": {},
   "source": [
    "### 板块分析\n",
    "\n",
    "#### 概念板块分析"
   ]
  },
  {
   "cell_type": "code",
   "execution_count": 265,
   "metadata": {},
   "outputs": [],
   "source": [
    "def cache(p: pl.Path, getter: Callable[[], pd.DataFrame]):\n",
    "    if not path.exists(p):\n",
    "        df = getter()\n",
    "        df.to_pickle(p)\n",
    "    return pd.read_pickle(p)"
   ]
  },
  {
   "cell_type": "code",
   "execution_count": 266,
   "metadata": {},
   "outputs": [],
   "source": [
    "DIR = pl.Path('data/concept_board')\n",
    "os.makedirs(DIR, exist_ok=True)\n",
    "concept_board = cache(\n",
    "    pl.Path(\"data/concept_board.pkl\"), lambda: ak.stock_board_concept_name_em())\n",
    "concept_boards = {\n",
    "    name: cache(pl.Path(DIR / \"{name}.pkl\"), lambda: ak.stock_board_concept_cons_em(name)) for name in concept_board['板块名称']\n",
    "}"
   ]
  },
  {
   "cell_type": "code",
   "execution_count": 268,
   "metadata": {},
   "outputs": [],
   "source": [
    "DIR = pl.Path('data/industry_board')\n",
    "os.makedirs(DIR, exist_ok=True)\n",
    "industry_board = cache(\n",
    "    pl.Path(\"data/industry_board.pkl\"), lambda: ak.stock_board_industry_name_em())\n",
    "industry_boards = {\n",
    "    name: cache(pl.Path(DIR / f\"{name}.pkl\"), lambda: ak.stock_board_industry_cons_em(name)) for name in industry_board['板块名称']\n",
    "}"
   ]
  },
  {
   "cell_type": "markdown",
   "metadata": {},
   "source": [
    "## 实验总结与自评分\n"
   ]
  },
  {
   "cell_type": "markdown",
   "metadata": {},
   "source": [
    "## 感谢和收获\n"
   ]
  }
 ],
 "metadata": {
  "kernelspec": {
   "display_name": "base",
   "language": "python",
   "name": "python3"
  },
  "language_info": {
   "codemirror_mode": {
    "name": "ipython",
    "version": 3
   },
   "file_extension": ".py",
   "mimetype": "text/x-python",
   "name": "python",
   "nbconvert_exporter": "python",
   "pygments_lexer": "ipython3",
   "version": "3.11.5"
  }
 },
 "nbformat": 4,
 "nbformat_minor": 2
}
