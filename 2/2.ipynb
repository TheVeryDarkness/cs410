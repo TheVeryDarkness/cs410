{
 "cells": [
  {
   "cell_type": "markdown",
   "metadata": {},
   "source": [
    "# 计算机网络体系结构第二次作业\n",
    "\n",
    "作业要求：\n",
    "\n",
    "> 1. 推导杜邦分析公式：ROE = 净利润率 x 总资产周转率 x 权益乘数，并简要分析宏观经济放缓对于 ROE 的影响。\n",
    "> 2. 因为假的东西难以长久，看财报最好多看几年。1）利用 akshare 库获取上市公司的财务报表数据（代码参考附录 1），计算每只股票在 2021 年至 2023 年期间的 ROE（由于 akshare 没有给出归母净利润，这里假设净利润 = 归母净利润）。2）希望对同一板块的公司进行 ROE 的横向比较。\n",
    "> 3. 在 2 的基础上，针对于 ROE 最高的公司，根据其某一年，如 2023 年的年度报表，进行杜邦分析。（markdown 画图可参考附录 2）\n",
    "\n",
    "## 理论推导\n",
    "\n",
    "### 杜邦分析公式\n",
    "\n",
    "杜邦分析公式是一个用于分解公司 ROE 的公式，它将 ROE 分解为三个部分：净利润率、总资产周转率和权益乘数。具体推导如下：\n",
    "\n",
    "$$\n",
    "\\begin{alignat*}{3}\n",
    "    ROE & = \\frac{\\text{归母净利润}}{\\text{净资产}} \\\\\n",
    "        & = \\frac{\\text{归母净利润}}{\\text{营业收入}} \\times \\frac{\\text{营业收入}}{\\text{净资产}} \\\\\n",
    "        & = \\frac{\\text{归母净利润}}{\\text{营业收入}} \\times \\frac{\\text{营业收入}}{\\text{平均总资产}} \\times \\frac{\\text{平均总资产}}{\\text{净资产}} \\\\\n",
    "        & = \\text{净利润率} \\times \\text{总资产周转率} \\times \\text{权益乘数}\n",
    "\\end{alignat*}\n",
    "$$\n",
    "\n",
    "其中：\n",
    "\n",
    "- ROE = $\\frac{\\text{归母净利润}}{\\text{净资产}}$。\n",
    "- 净利润率 = $\\frac{\\text{归母净利润}}{\\text{营业收入}}$。\n",
    "- 总资产周转率 = $\\frac{\\text{营业收入}}{\\text{平均总资产}}$。\n",
    "- 权益乘数 = $\\frac{\\text{平均总资产}}{\\text{净资产}}$。\n",
    "\n",
    "## 实验设置\n"
   ]
  },
  {
   "cell_type": "markdown",
   "metadata": {},
   "source": [
    "## 实验原理、实现、结果与分析"
   ]
  },
  {
   "cell_type": "code",
   "execution_count": 64,
   "metadata": {},
   "outputs": [],
   "source": [
    "from typing import Callable\n",
    "from pylab import mpl\n",
    "from matplotlib import pyplot as plt\n",
    "import akshare as ak\n",
    "import os\n",
    "import os.path as path\n",
    "import pandas as pd\n",
    "import pathlib as pl\n",
    "\n",
    "\n",
    "# 设置显示中文字体\n",
    "mpl.rcParams[\"font.sans-serif\"] = [\"Songti SC\"]\n",
    "mpl.rcParams[\"axes.unicode_minus\"] = False\n",
    "\n",
    "\n",
    "class DataLoader:\n",
    "    \"\"\"\n",
    "    Load data from akshare and save it to local file.\n",
    "    \"\"\"\n",
    "    stock_zcfz_em_df: pd.DataFrame\n",
    "    stock_lrb_em_df: pd.DataFrame\n",
    "    stock_xjll_em_df: pd.DataFrame\n",
    "\n",
    "    def __init__(self, date: str):\n",
    "        self.load_data(date)\n",
    "\n",
    "    @staticmethod\n",
    "    def load_df(p: pl.Path, getter: Callable[[], pd.DataFrame]):\n",
    "        '''\n",
    "        Load DataFrame from local file, if the file does not exist, call getter to get the data.\n",
    "        '''\n",
    "        if not path.exists(p):\n",
    "            df = getter()\n",
    "            df.set_index(\"股票代码\", inplace=True)\n",
    "            df.to_pickle(p)\n",
    "        # 如果我们不使用pd.read_json，而是直接使用pd.read_csv，会导致数据类型不一致\n",
    "        # 例如，有的列是int，有的列是float\n",
    "        return pd.read_pickle(p)\n",
    "\n",
    "    def load_data(self, date: str):\n",
    "        DIR = pl.Path(\"data\")\n",
    "        os.makedirs(DIR, exist_ok=True)\n",
    "        self.stock_zcfz_em_df = self.load_df(\n",
    "            DIR / f\"stock_zcfz_em-{date}.pkl\",\n",
    "            lambda: ak.stock_zcfz_em(date=date)\n",
    "        )\n",
    "        self.stock_lrb_em_df = self.load_df(\n",
    "            DIR / f\"stock_lrb_em-{date}.pkl\",\n",
    "            lambda: ak.stock_lrb_em(date=date)\n",
    "        )\n",
    "        self.stock_xjll_em_df = self.load_df(\n",
    "            DIR / f\"stock_xjll_em-{date}.pkl\",\n",
    "            lambda: ak.stock_xjll_em(date=date)\n",
    "        )"
   ]
  },
  {
   "cell_type": "code",
   "execution_count": 65,
   "metadata": {},
   "outputs": [
    {
     "name": "stderr",
     "output_type": "stream",
     "text": [
      "                                               "
     ]
    },
    {
     "name": "stdout",
     "output_type": "stream",
     "text": [
      "Index(['序号', '股票简称', '资产-货币资金', '资产-应收账款', '资产-存货', '资产-总资产', '资产-总资产同比',\n",
      "       '负债-应付账款', '负债-预收账款', '负债-总负债', '负债-总负债同比', '资产负债率', '股东权益合计', '公告日期'],\n",
      "      dtype='object')\n",
      "Index(['序号', '股票简称', '净利润', '净利润同比', '营业总收入', '营业总收入同比', '营业总支出-营业支出',\n",
      "       '营业总支出-销售费用', '营业总支出-管理费用', '营业总支出-财务费用', '营业总支出-营业总支出', '营业利润', '利润总额',\n",
      "       '公告日期'],\n",
      "      dtype='object')\n",
      "Index(['序号', '股票简称', '净现金流-净现金流', '净现金流-同比增长', '经营性现金流-现金流量净额',\n",
      "       '经营性现金流-净现金流占比', '投资性现金流-现金流量净额', '投资性现金流-净现金流占比', '融资性现金流-现金流量净额',\n",
      "       '融资性现金流-净现金流占比', '公告日期'],\n",
      "      dtype='object')\n"
     ]
    },
    {
     "name": "stderr",
     "output_type": "stream",
     "text": [
      "\r"
     ]
    }
   ],
   "source": [
    "DATE = \"20220331\"\n",
    "\n",
    "start = DataLoader(\"20201231\")\n",
    "end = DataLoader(\"20231231\")\n",
    "\n",
    "print(start.stock_zcfz_em_df.columns)\n",
    "print(start.stock_lrb_em_df.columns)\n",
    "print(start.stock_xjll_em_df.columns)"
   ]
  },
  {
   "cell_type": "code",
   "execution_count": 66,
   "metadata": {},
   "outputs": [
    {
     "data": {
      "text/plain": [
       "<Axes: xlabel='股票代码'>"
      ]
     },
     "execution_count": 66,
     "metadata": {},
     "output_type": "execute_result"
    },
    {
     "data": {
      "image/png": "[encoded data removed]",
      "text/plain": [
       "<Figure size 640x480 with 1 Axes>"
      ]
     },
     "metadata": {},
     "output_type": "display_data"
    }
   ],
   "source": [
    "ax = plt.axes()\n",
    "start.stock_zcfz_em_df.plot(ax=ax, y=\"资产负债率\")\n",
    "end.stock_zcfz_em_df.plot(ax=ax, y=\"资产负债率\")"
   ]
  },
  {
   "cell_type": "markdown",
   "metadata": {},
   "source": [
    "## 实验总结与自评分"
   ]
  },
  {
   "cell_type": "markdown",
   "metadata": {},
   "source": [
    "## 感谢和收获"
   ]
  }
 ],
 "metadata": {
  "kernelspec": {
   "display_name": "base",
   "language": "python",
   "name": "python3"
  },
  "language_info": {
   "codemirror_mode": {
    "name": "ipython",
    "version": 3
   },
   "file_extension": ".py",
   "mimetype": "text/x-python",
   "name": "python",
   "nbconvert_exporter": "python",
   "pygments_lexer": "ipython3",
   "version": "3.11.5"
  }
 },
 "nbformat": 4,
 "nbformat_minor": 2
}
