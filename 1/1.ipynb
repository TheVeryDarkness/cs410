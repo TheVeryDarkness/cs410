{
 "cells": [
  {
   "cell_type": "markdown",
   "metadata": {},
   "source": [
    "# 计算机网络体系结构第一次作业\n",
    "\n",
    "## 实验设置\n",
    "\n",
    "### 买入\n",
    "\n",
    "- 考虑买入证券交易费：过户费、佣金\n",
    "- 过户费：按成交股票的金额 ×0.02‰收取，单位：元。双向收取（上海市场均收取）,过户费属于证券登记清算机构的收入\n",
    "- 佣金：买卖双向收取，成交金额的 0.015%－0.3%，起点 5 元。此处取 0.018%\n",
    "\n",
    "```python\n",
    "deltaPositionValue = deltaPosition * stockToday[\"收盘\"]\n",
    "costBuy = deltaPositionValue*0.02/1e3 + max(deltaPositionValue*0.018/100, 5)\n",
    "#self.cash -= deltaPosition * stockToday[\"收盘\"]\n",
    "self.cash = self.cash - deltaPositionValue - costBuy\n",
    "\n",
    "#没有考虑self.cash不够，出现负数的情况\n",
    "```\n",
    "\n",
    "### 卖出\n",
    "\n",
    "- 考虑买入证券交易费：印花税、过户费、佣金\n",
    "- 印花税：单向收取，卖出成交金额的万分之五（5‱）印花税由政府收取\n",
    "- 过户费：按成交股票的金额 ×0.02‰收取，单位：元。双向收取（上海市场均收取）,过户费属于证券登记清算机构的收入\n",
    "- 佣金：买卖双向收取，成交金额的 0.015%－0.3%，起点 5 元。此处取 0.018%\n",
    "\n",
    "```python\n",
    "deltaPositionValue = pos[\"头寸\"] * stockToday[\"收盘\"]\n",
    "costSell = deltaPositionValue*(1e-3 + 0.02/1e3) + max(deltaPositionValue*0.018/100, 5)\n",
    "```\n"
   ]
  },
  {
   "cell_type": "markdown",
   "metadata": {},
   "source": [
    "## 实验代码及说明"
   ]
  },
  {
   "cell_type": "markdown",
   "metadata": {},
   "source": [
    "### 准备依赖"
   ]
  },
  {
   "cell_type": "code",
   "execution_count": null,
   "metadata": {},
   "outputs": [],
   "source": [
    "!python -m pip install -q akshare pandas numpy"
   ]
  },
  {
   "cell_type": "code",
   "execution_count": 9,
   "metadata": {},
   "outputs": [],
   "source": [
    "import akshare as ak\n",
    "# import calendar\n",
    "import datetime\n",
    "# import numpy as np\n",
    "import pandas as pd\n",
    "import os"
   ]
  },
  {
   "cell_type": "markdown",
   "metadata": {},
   "source": [
    "### 准备实验数据"
   ]
  },
  {
   "cell_type": "code",
   "execution_count": 10,
   "metadata": {},
   "outputs": [
    {
     "name": "stdout",
     "output_type": "stream",
     "text": [
      "使用已有数据(2016-2024)\n",
      "共有15个标的数据\n"
     ]
    }
   ],
   "source": [
    "stockNameCodes = [\n",
    "    (\"512200\", \"房地产ETF\"),\n",
    "    (\"513050\", \"中概互联网ETF\"),\n",
    "    (\"510300\", \"沪深300ETF\"),\n",
    "    (\"510050\", \"上证50ETF\"),\n",
    "    (\"510500\", \"中证500ETF\"),\n",
    "    (\"159915\", \"创业板ETF\"),\n",
    "    (\"159902\", \"中小100ETF\"),\n",
    "    (\"512010\", \"医药ETF\"),\n",
    "    (\"512880\", \"证券ETF\"),\n",
    "    (\"512580\", \"环保ETF\"),\n",
    "    (\"159920\", \"恒生ETF\"),\n",
    "    (\"510900\", \"H股ETF\"),\n",
    "    (\"513500\", \"标普500ETF\"),\n",
    "    (\"513100\", \"纳指ETF\"),\n",
    "    (\"512660\", \"军工ETF\")\n",
    "]\n",
    "\n",
    "\n",
    "def Preprocess(startDate, endDate):\n",
    "    # 获取标的历史数据\n",
    "    startDate = startDate - datetime.timedelta(days=365)\n",
    "\n",
    "    allStockDaily = {}\n",
    "    path = f'data/{startDate.strftime(\"%Y\")}-{endDate.strftime(\"%Y\")}'\n",
    "    if os.path.exists(path):\n",
    "        print(f'使用已有数据({startDate.strftime(\"%Y\")}-{endDate.strftime(\"%Y\")})')\n",
    "        for code, name in stockNameCodes:\n",
    "            stockDaily = pd.read_csv(os.path.join(path, f\"{name}_{code}.csv\"))\n",
    "            stockDaily[\"日期\"] = pd.to_datetime(stockDaily[\"日期\"])\n",
    "            stockDaily = stockDaily.set_index(\"日期\", drop=False)\n",
    "\n",
    "            allStockDaily[code] = stockDaily\n",
    "        return allStockDaily\n",
    "\n",
    "    os.makedirs(path)\n",
    "    for i, (code, name) in enumerate(stockNameCodes):\n",
    "        print(f\"{i}. {name}({code}) 正在读取数据...\")\n",
    "        try:\n",
    "            # stockDaily = ak.stock_zh_a_hist(\n",
    "            stockDaily = ak.fund_etf_hist_em(\n",
    "                symbol=code,\n",
    "                period=\"daily\",\n",
    "                start_date=startDate.strftime(\"%Y%m%d\"),\n",
    "                end_date=endDate.strftime(\"%Y%m%d\"),\n",
    "                adjust=\"hfq\",\n",
    "            )\n",
    "        except:\n",
    "            print(\n",
    "                f'{name}({code}): {startDate.strftime(\"%Y-%m-%d\")}--{endDate.strftime(\"%Y-%m-%d\")}读取失败!'\n",
    "            )\n",
    "            continue\n",
    "        # print(stockDaily.columns)\n",
    "        stockDaily = stockDaily[stockDaily[\"开盘\"].notnull()]\n",
    "        stockDaily[\"日期\"] = pd.to_datetime(stockDaily[\"日期\"])\n",
    "\n",
    "        stockDaily.to_csv(os.path.join(\n",
    "            path, f\"{name}_{code}.csv\"), index=False)\n",
    "        stockDaily = stockDaily.set_index(\"日期\", drop=False)\n",
    "\n",
    "        allStockDaily[code] = stockDaily\n",
    "    return allStockDaily\n",
    "\n",
    "\n",
    "if __name__ == \"__main__\":\n",
    "    allStockDaily = Preprocess(datetime.datetime(\n",
    "        2017, 9, 1), datetime.datetime(2024, 3, 14))\n",
    "    print(f\"共有{len(allStockDaily)}个标的数据\")"
   ]
  }
 ],
 "metadata": {
  "kernelspec": {
   "display_name": "Python 3",
   "language": "python",
   "name": "python3"
  },
  "language_info": {
   "codemirror_mode": {
    "name": "ipython",
    "version": 3
   },
   "file_extension": ".py",
   "mimetype": "text/x-python",
   "name": "python",
   "nbconvert_exporter": "python",
   "pygments_lexer": "ipython3",
   "version": "3.11.5"
  }
 },
 "nbformat": 4,
 "nbformat_minor": 2
}
